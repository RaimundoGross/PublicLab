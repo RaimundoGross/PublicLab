{
 "cells": [
  {
   "cell_type": "markdown",
   "metadata": {},
   "source": [
    "# Tarea 1 - Análisis exploratorio de datos\n",
    "\n",
    "Nombre: Raimundo Gross\n",
    "\n",
    "Par: 200\n",
    "\n",
    "Rol: 201873501-9\n"
   ]
  },{
   "cell_type": "markdown",
   "metadata": {},
   "source": [
    "Link para video explicativo: https://drive.google.com/open?id=11d28ANijgj95UUqfUXphxzBwT0IEg5XM\n",
    "\n"
   ]
  },
  {
   "cell_type": "code",
   "execution_count": 3,
   "metadata": {},
   "outputs": [
    {
     "name": "stdout",
     "output_type": "stream",
     "text": [
      "--2020-04-24 22:40:14--  https://raw.githubusercontent.com/FMena14/ML_usm/master/Estadisticia/T1_data/daily_sales_week.csv\n",
      "Resolving raw.githubusercontent.com (raw.githubusercontent.com)... 151.101.220.133\n",
      "Connecting to raw.githubusercontent.com (raw.githubusercontent.com)|151.101.220.133|:443... connected.\n",
      "HTTP request sent, awaiting response... 200 OK\n",
      "Length: 558 [text/plain]\n",
      "Saving to: ‘daily_sales_week.csv.2’\n",
      "\n",
      "daily_sales_week.cs 100%[===================>]     558  --.-KB/s    in 0s      \n",
      "\n",
      "2020-04-24 22:40:14 (13,0 MB/s) - ‘daily_sales_week.csv.2’ saved [558/558]\n",
      "\n",
      "--2020-04-24 22:40:14--  https://raw.githubusercontent.com/FMena14/ML_usm/master/Estadisticia/T1_data/daily_sales_weekend.csv\n",
      "Resolving raw.githubusercontent.com (raw.githubusercontent.com)... 151.101.220.133\n",
      "Connecting to raw.githubusercontent.com (raw.githubusercontent.com)|151.101.220.133|:443... connected.\n",
      "HTTP request sent, awaiting response... 200 OK\n",
      "Length: 297 [text/plain]\n",
      "Saving to: ‘daily_sales_weekend.csv.2’\n",
      "\n",
      "daily_sales_weekend 100%[===================>]     297  --.-KB/s    in 0s      \n",
      "\n",
      "2020-04-24 22:40:14 (7,15 MB/s) - ‘daily_sales_weekend.csv.2’ saved [297/297]\n",
      "\n"
     ]
    }
   ],
   "source": [
    "!wget https://raw.githubusercontent.com/FMena14/ML_usm/master/Estadisticia/T1_data/daily_sales_week.csv\n",
    "!wget https://raw.githubusercontent.com/FMena14/ML_usm/master/Estadisticia/T1_data/daily_sales_weekend.csv\n",
    "    "
   ]
  },
  {
   "cell_type": "code",
   "execution_count": 10,
   "metadata": {},
   "outputs": [],
   "source": [
    "import numpy as np\n",
    "import pandas as pd\n",
    "import matplotlib.pyplot as plt\n",
    "import seaborn as sbn\n",
    "from math import sqrt"
   ]
  },
  {
   "cell_type": "markdown",
   "metadata": {},
   "source": [
    "### Actividades"
   ]
  },
  {
   "cell_type": "markdown",
   "metadata": {},
   "source": [
    "a) La población corresponde a todas las ventas históricas de la empresa.\n",
    "   La variable asociada corresponde a la cantidad de ventas por día.\n",
    "   Las dos muestras corresponden a las ventas de los días de semana y de fin de semana del año 2019."
   ]
  },
  {
   "cell_type": "markdown",
   "metadata": {},
   "source": [
    "b)"
   ]
  },
  {
   "cell_type": "code",
   "execution_count": 11,
   "metadata": {},
   "outputs": [
    {
     "name": "stdout",
     "output_type": "stream",
     "text": [
      "Media aritmetica de la semana: 4.6 \n",
      "Media aritmetica del fin de semana: 14.7\n",
      "Mediana de semana: 3.0 \n",
      "Mediana del fin de semana: 14.0\n",
      "Sesgo de semana: 1.6\n",
      "Sesgo de fin de semana: 0.7\n"
     ]
    }
   ],
   "source": [
    "sem = open(\"daily_sales_week.csv\", \"r\")\n",
    "fds = open(\"daily_sales_weekend.csv\", \"r\")\n",
    "\n",
    "lsem = []\n",
    "lfds = []\n",
    "\n",
    "for n in sem:\n",
    "    lsem.append(float(n))\n",
    "    \n",
    "for m in fds:\n",
    "    lfds.append(float(m))\n",
    "\n",
    "\n",
    "msem = np.mean(lsem)\n",
    "mfds = np.mean(lfds)\n",
    "\n",
    "med_sem = np.median(lsem)\n",
    "med_fds = np.median(lfds)\n",
    "\n",
    "print(\"Media aritmetica de la semana:\", round(msem, 1),\"\\nMedia aritmetica del fin de semana:\", round(mfds,1))\n",
    "print(\"Mediana de semana:\", med_sem, \"\\nMediana del fin de semana:\", med_fds)\n",
    "\n",
    "print(\"Sesgo de semana:\",round(msem - med_sem, 1) )\n",
    "print(\"Sesgo de fin de semana:\", round(mfds - med_fds, 1))\n",
    "\n",
    "\n",
    "    \n",
    "\n",
    "    "
   ]
  },
  {
   "cell_type": "markdown",
   "metadata": {},
   "source": [
    "Considero que los resultados sí sos razonables, ya que es de esperar que los fines de semana vaya más a gente a comprar. Además la mediana y la media son similares entre sí y ambas muestras poseen un sesgo positivo, más pronunciado en la semana, que en comparación al fin de semana en donde la diferencia es menor a 1, lo que indica que más de la mitad de los valores están por bajo la media."
   ]
  },
  {
   "cell_type": "markdown",
   "metadata": {},
   "source": [
    "c)"
   ]
  },
  {
   "cell_type": "code",
   "execution_count": 12,
   "metadata": {},
   "outputs": [
    {
     "name": "stdout",
     "output_type": "stream",
     "text": [
      "Desviacion estandar semana: 5.2\n",
      "Desviacion estandar fin de semana 5.2\n"
     ]
    }
   ],
   "source": [
    "std_sem = np.std(lsem)\n",
    "std_fds = np.std(lfds)\n",
    "\n",
    "print(\"Desviacion estandar semana:\", round(std_sem,1))\n",
    "print(\"Desviacion estandar fin de semana\", round(std_fds,1))"
   ]
  },
  {
   "cell_type": "markdown",
   "metadata": {},
   "source": [
    "Ambas muestras presentan un valor de desviación estandar alto, y en este caso iguales, lo que significa que existe gran variedad de datos y que además la tendencia de compra varía de manera proporcional entre la semana y el fin de semana, ya que a pesar de que el fin de semana se compre más, la dispersión se mantiene.\n",
    "\n",
    "Esto podría complementarse con los valores del sesgo de la semana y el fin de semana. Estos dos valores no son muy elevados, por lo que la curva de los datos es casi simétrica. Sin embargo, esta desviación estadar indica que la curva se alarga hacia los costados, ya que existen valores que difieren de manera significativa de la media."
   ]
  },
  {
   "cell_type": "markdown",
   "metadata": {},
   "source": [
    "d)"
   ]
  },
  {
   "cell_type": "code",
   "execution_count": 13,
   "metadata": {},
   "outputs": [
    {
     "data": {
      "image/png": "[encoded data removed]",
      "text/plain": [
       "<Figure size 432x288 with 1 Axes>"
      ]
     },
     "metadata": {
      "needs_background": "light"
     },
     "output_type": "display_data"
    }
   ],
   "source": [
    "plt.boxplot([lsem, lfds], labels=[\"Semana\", \"Fin de Semana\"])\n",
    "plt.show()\n",
    "\n",
    "\n"
   ]
  },
  {
   "cell_type": "markdown",
   "metadata": {},
   "source": [
    "Como sabemos el limite inferior representa el 25% y el limite superior de la caja representa el 75% de los datos, por ende es facil ver que los fines de semana efectivamente se vende más ya que el 75% de las ventas de la semana se encuentran por debajo del 25% de las del fin de semana.\n",
    "\n",
    "En el fin de semana, aproximadamente el 50% de los días podrian considerar exitosos. En cambio, en la semana los días exitosos son esporadicos y corresponden a menos del 25%."
   ]
  },
  {
   "cell_type": "markdown",
   "metadata": {},
   "source": [
    "e)\n",
    "\n",
    "Considero que debería enfocarse en los días semana porque tiene un porcentaje de días exitosos muy bajos, sobretodo comparado con los fines de semana, y además las ventas en esos días están muy bajas y lejanas al valor de exito.\n",
    "\n"
   ]
  },
  {
   "cell_type": "markdown",
   "metadata": {},
   "source": [
    "f)"
   ]
  },
  {
   "cell_type": "code",
   "execution_count": 16,
   "metadata": {},
   "outputs": [
    {
     "data": {
      "image/png": "[encoded data removed]",
      "text/plain": [
       "<Figure size 432x288 with 1 Axes>"
      ]
     },
     "metadata": {
      "needs_background": "light"
     },
     "output_type": "display_data"
    },
    {
     "name": "stdout",
     "output_type": "stream",
     "text": [
      "Media aritmeica de temporada: 7.5\n",
      "Mediana de temporada: 5.0\n",
      "Desviación estandar de temporada: 6.9\n",
      "Sesgo de temporada: 2.5\n"
     ]
    },
    {
     "data": {
      "image/png": "[encoded data removed]",
      "text/plain": [
       "<Figure size 432x288 with 1 Axes>"
      ]
     },
     "metadata": {
      "needs_background": "light"
     },
     "output_type": "display_data"
    },
    {
     "name": "stdout",
     "output_type": "stream",
     "text": [
      "Media aritmetica de la semana: 4.6 \n",
      "Media aritmetica del fin de semana: 14.7\n",
      "Mediana de semana: 3.0 \n",
      "Mediana del fin de semana: 14.0\n",
      "Desviacion estandar semana: 5.2\n",
      "Desviacion estandar fin de semana 5.2\n"
     ]
    }
   ],
   "source": [
    "\n",
    "ltem= lsem+lfds\n",
    "K = int(np.ceil(sqrt(len(ltem))))\n",
    "\n",
    "mtem = np.mean(ltem)\n",
    "med_tem = np.median(ltem)\n",
    "std_tem = np.std(ltem)\n",
    "\n",
    "sbn.distplot(ltem, bins=K, norm_hist=False, kde=True, label=\"Temporada\") \n",
    "plt.vlines(mtem, 0, 0.15, label=\"Media\", colors='r')\n",
    "plt.vlines(med_tem, 0, 0.15, label=\"Mediana\", colors='k')\n",
    "plt.legend()\n",
    "plt.show()\n",
    "\n",
    "\n",
    "print(\"Media aritmeica de temporada:\",round(mtem,1))\n",
    "print(\"Mediana de temporada:\", med_tem)\n",
    "print(\"Desviación estandar de temporada:\", round(std_tem, 1))\n",
    "print(\"Sesgo de temporada:\", round(mtem-med_tem,1))\n",
    "\n",
    "\n",
    "sbn.distplot(lsem, bins=K, norm_hist=True, kde=True, label=\"Semana\") \n",
    "sbn.distplot(lfds, bins=K, norm_hist=True, kde=True, label=\"Fin de Semana\")\n",
    "plt.legend()\n",
    "plt.show()\n",
    "\n",
    "print(\"Media aritmetica de la semana:\", round(msem, 1),\"\\nMedia aritmetica del fin de semana:\", round(mfds,1))\n",
    "print(\"Mediana de semana:\", med_sem, \"\\nMediana del fin de semana:\", med_fds)\n",
    "\n",
    "\n",
    "print(\"Desviacion estandar semana:\", round(std_sem,1))\n",
    "print(\"Desviacion estandar fin de semana\", round(std_fds,1))"
   ]
  },
  {
   "cell_type": "markdown",
   "metadata": {},
   "source": [
    "Como podemos al juntar los datos para formar el conjunto de datos de temporadas, se distorsiona un poco el panorama con respecto al ventas. Al ser más los días de semana, en terminos de cantidad de datos, desplazan o cargan la curva más de lo normal hacia la izquierda, dada las pocas ventas en general de estos días, lo que se evidencia en que la media es más cercana a la media de la semana, en vez de llegar a un punto medio entre las medias de ambas muestras, y lo mismo sucede con la mediana\n",
    "\n",
    "Es importante notar también que al juntar los datos aumenta de manera considerable la desviación, junto con el sesgo, teniendo muchos datos dispersos lo que dificulta la comparación.\n",
    "\n",
    "Para obtener la media de temporada a partir de la media de las otras muestras, se debería multiplicar cada media por la cantidad de datos asociada a esta, sumar los productos y dividirlos por la cantidad total de datos. "
   ]
  }
 ],
 "metadata": {
  "kernelspec": {
   "display_name": "Python 3",
   "language": "python",
   "name": "python3"
  },
  "language_info": {
   "codemirror_mode": {
    "name": "ipython",
    "version": 3
   },
   "file_extension": ".py",
   "mimetype": "text/x-python",
   "name": "python",
   "nbconvert_exporter": "python",
   "pygments_lexer": "ipython3",
   "version": "3.8.2"
  }
 },
 "nbformat": 4,
 "nbformat_minor": 4
}
